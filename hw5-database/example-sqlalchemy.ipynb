{
 "cells": [
  {
   "cell_type": "markdown",
   "metadata": {},
   "source": [
    "Fetching Webpages with the Requests Library To Demonstrate\n",
    "===========================================\n",
    "SqlAlchemy helps you use a database to store and retrieve information from python.  It abstracts the specific storage engine from te way you use it - so it doesn't care if you end up using MySQL, SQLite, or whatever else. In addition, you can use core and the object-relational mapper (ORM) to avoid writing any SQL at all.  The [SQLAlchemy homepage](http://www.sqlalchemy.org/) has lots of good examples and full documentation."
   ]
  },
  {
   "cell_type": "code",
   "execution_count": 6,
   "metadata": {
    "collapsed": false
   },
   "outputs": [],
   "source": [
    "from sqlalchemy import *\n",
    "import datetime\n",
    "import mediacloud"
   ]
  },
  {
   "cell_type": "code",
   "execution_count": 7,
   "metadata": {
    "collapsed": false
   },
   "outputs": [],
   "source": [
    "my_api_key = 'your api key here'\n",
    "mc = mediacloud.api.MediaCloud(my_api_key)"
   ]
  },
  {
   "cell_type": "markdown",
   "metadata": {},
   "source": [
    "## Basic SQL Generation\n",
    "The core library generates SQL for you.  Read more about it on their [expression language tutorial page](http://docs.sqlalchemy.org/en/rel_1_0/core/index.html). Below are some basic examples."
   ]
  },
  {
   "cell_type": "markdown",
   "metadata": {},
   "source": [
    "### Creating a Table\n",
    "Read more about [defining and creating tables](http://docs.sqlalchemy.org/en/rel_1_0/core/tutorial.html#define-and-create-tables)."
   ]
  },
  {
   "cell_type": "code",
   "execution_count": 8,
   "metadata": {
    "collapsed": false
   },
   "outputs": [],
   "source": [
    "# add `echo=True` to see log statements of all the SQL that is generated\n",
    "engine = create_engine('sqlite:///:memory:') # just save the db in memory for now (ie. not on disk)\n",
    "metadata = MetaData()\n",
    "\n",
    "def getMediaCloudCount(keyword):\n",
    "    return mc.sentenceCount('('+keyword+')', solr_filter=[mc.publish_date_query( \n",
    "                datetime.date( 2014, 1, 1), datetime.date( 2015, 1, 1) ), 'media_sets_id:1' ])['count']\n",
    "\n",
    "# define a table to use\n",
    "queries = Table('queries', metadata,\n",
    "    Column('id', Integer, primary_key=True),\n",
    "    Column('keywords', String(400), nullable=False),\n",
    "    Column('timestamp', DateTime, default=datetime.datetime.now),\n",
    "    Column('count', Integer),\n",
    ")\n",
    "metadata.create_all(engine) # and create the tables in the database"
   ]
  },
  {
   "cell_type": "markdown",
   "metadata": {},
   "source": [
    "### Inserting Data\n",
    "Read more about generating [SQL insert statements](http://docs.sqlalchemy.org/en/rel_1_0/core/tutorial.html#insert-expressions)."
   ]
  },
  {
   "cell_type": "code",
   "execution_count": 9,
   "metadata": {
    "collapsed": false
   },
   "outputs": [
    {
     "data": {
      "text/plain": [
       "'INSERT INTO queries (id, keywords, timestamp, count) VALUES (:id, :keywords, :timestamp, :count)'"
      ]
     },
     "execution_count": 9,
     "metadata": {},
     "output_type": "execute_result"
    }
   ],
   "source": [
    "insert_stmt = queries.insert()\n",
    "str(insert_stmt) # see an example of what this will do"
   ]
  },
  {
   "cell_type": "code",
   "execution_count": 10,
   "metadata": {
    "collapsed": false
   },
   "outputs": [
    {
     "data": {
      "text/plain": [
       "'INSERT INTO queries (keywords, timestamp, count) VALUES (:keywords, :timestamp, :count)'"
      ]
     },
     "execution_count": 10,
     "metadata": {},
     "output_type": "execute_result"
    }
   ],
   "source": [
    "insert_stmt = queries.insert().values(keywords=\"puppies\", count=getMediaCloudCount(\"puppies\"))\n",
    "str(insert_stmt)"
   ]
  },
  {
   "cell_type": "code",
   "execution_count": 11,
   "metadata": {
    "collapsed": false
   },
   "outputs": [
    {
     "data": {
      "text/plain": [
       "[1]"
      ]
     },
     "execution_count": 11,
     "metadata": {},
     "output_type": "execute_result"
    }
   ],
   "source": [
    "db_conn = engine.connect()\n",
    "result = db_conn.execute(insert_stmt)\n",
    "result.inserted_primary_key # print out the primary key it was assigned"
   ]
  },
  {
   "cell_type": "code",
   "execution_count": 12,
   "metadata": {
    "collapsed": false
   },
   "outputs": [
    {
     "data": {
      "text/plain": [
       "[2]"
      ]
     },
     "execution_count": 12,
     "metadata": {},
     "output_type": "execute_result"
    }
   ],
   "source": [
    "insert_stmt = queries.insert().values(keywords=\"kittens\", count=getMediaCloudCount(\"kittens\"))\n",
    "result = db_conn.execute(insert_stmt)\n",
    "result.inserted_primary_key # print out the primary key it was assigned"
   ]
  },
  {
   "cell_type": "markdown",
   "metadata": {},
   "source": [
    "### Retrieving Data\n",
    "Read more about using [SQL select statments](http://docs.sqlalchemy.org/en/rel_1_0/core/tutorial.html#selecting)."
   ]
  },
  {
   "cell_type": "code",
   "execution_count": 13,
   "metadata": {
    "collapsed": false
   },
   "outputs": [
    {
     "name": "stdout",
     "output_type": "stream",
     "text": [
      "(1, u'puppies', datetime.datetime(2015, 12, 8, 19, 16, 7, 430254), 5709)\n",
      "(2, u'kittens', datetime.datetime(2015, 12, 8, 19, 16, 10, 822920), 3101)\n"
     ]
    }
   ],
   "source": [
    "from sqlalchemy.sql import select\n",
    "select_stmt = select([queries])\n",
    "results = db_conn.execute(select_stmt)\n",
    "for row in results:\n",
    "    print row"
   ]
  },
  {
   "cell_type": "code",
   "execution_count": 14,
   "metadata": {
    "collapsed": false
   },
   "outputs": [
    {
     "name": "stdout",
     "output_type": "stream",
     "text": [
      "(1, u'puppies', datetime.datetime(2015, 12, 8, 19, 16, 7, 430254), 5709)\n"
     ]
    }
   ],
   "source": [
    "select_stmt = select([queries]).where(queries.c.id==1)\n",
    "for row in db_conn.execute(select_stmt):\n",
    "    print row"
   ]
  },
  {
   "cell_type": "code",
   "execution_count": 15,
   "metadata": {
    "collapsed": false
   },
   "outputs": [
    {
     "name": "stdout",
     "output_type": "stream",
     "text": [
      "(1, u'puppies', datetime.datetime(2015, 12, 8, 19, 16, 7, 430254), 5709)\n"
     ]
    }
   ],
   "source": [
    "select_stmt = select([queries]).where(queries.c.keywords.like('p%'))\n",
    "for row in db_conn.execute(select_stmt):\n",
    "    print row"
   ]
  },
  {
   "cell_type": "code",
   "execution_count": 16,
   "metadata": {
    "collapsed": false
   },
   "outputs": [
    {
     "name": "stdout",
     "output_type": "stream",
     "text": [
      "8810\n"
     ]
    }
   ],
   "source": [
    "counting = 0\n",
    "select_stmt = select([queries])\n",
    "results = db_conn.execute(select_stmt)\n",
    "for row in results:\n",
    "    counting+=row['count']\n",
    "\n",
    "print counting"
   ]
  },
  {
   "cell_type": "markdown",
   "metadata": {},
   "source": [
    "## ORM\n",
    "You can use their ORM library to handle the translation into full-fledged python objects.  This can help you build the Model for you [MVC](https://en.wikipedia.org/wiki/Model–view–controller) solution."
   ]
  },
  {
   "cell_type": "code",
   "execution_count": 17,
   "metadata": {
    "collapsed": false
   },
   "outputs": [],
   "source": [
    "import datetime\n",
    "from sqlalchemy import *\n",
    "from sqlalchemy.ext.declarative import declarative_base\n",
    "from sqlalchemy.orm import sessionmaker\n",
    "from sqlalchemy.ext.hybrid import hybrid_property\n",
    "Base = declarative_base()"
   ]
  },
  {
   "cell_type": "markdown",
   "metadata": {},
   "source": [
    "### Creating a class mapping\n",
    "Read more about [creating a mapping](http://docs.sqlalchemy.org/en/rel_1_0/orm/tutorial.html#declare-a-mapping)."
   ]
  },
  {
   "cell_type": "code",
   "execution_count": 18,
   "metadata": {
    "collapsed": false
   },
   "outputs": [
    {
     "data": {
      "text/plain": [
       "Table('queries', MetaData(bind=None), Column('id', Integer(), table=<queries>, primary_key=True, nullable=False), Column('keywords', String(length=400), table=<queries>), Column('timestamp', DateTime(), table=<queries>, default=ColumnDefault(<function <lambda> at 0x108d38668>)), schema=None)"
      ]
     },
     "execution_count": 18,
     "metadata": {},
     "output_type": "execute_result"
    }
   ],
   "source": [
    "class Query(Base):\n",
    "    __tablename__ = 'queries'\n",
    "    id = Column(Integer, primary_key=True)\n",
    "    keywords = Column(String(400))\n",
    "    timestamp = Column(DateTime,default=datetime.datetime.now)\n",
    "    count = Column(Integer)\n",
    "    \n",
    "    @hybrid_property\n",
    "    def count(self):\n",
    "        return getMediaCloudCount(self.keywords)\n",
    "\n",
    "    def __repr__(self):\n",
    "        return \"<Query(keywords='%s' count='%d')>\" % (self.keywords, self.count)\n",
    "Query.__table__"
   ]
  },
  {
   "cell_type": "markdown",
   "metadata": {},
   "source": [
    "### Creating a connection and session\n",
    "Read more about [creating this stuff](http://docs.sqlalchemy.org/en/rel_1_0/orm/tutorial.html#creating-a-session)."
   ]
  },
  {
   "cell_type": "code",
   "execution_count": 19,
   "metadata": {
    "collapsed": true
   },
   "outputs": [],
   "source": [
    "engine = create_engine('sqlite:///:memory:') # just save the db in memory for now (ie. not on disk)\n",
    "Base.metadata.create_all(engine)\n",
    "Session = sessionmaker(bind=engine)\n",
    "my_session = Session()"
   ]
  },
  {
   "cell_type": "markdown",
   "metadata": {},
   "source": [
    "### Inserting Data\n",
    "Read more about [inserting data with an ORM](http://docs.sqlalchemy.org/en/rel_1_0/orm/tutorial.html#adding-new-objects)."
   ]
  },
  {
   "cell_type": "code",
   "execution_count": 20,
   "metadata": {
    "collapsed": false
   },
   "outputs": [
    {
     "data": {
      "text/plain": [
       "'iguana'"
      ]
     },
     "execution_count": 20,
     "metadata": {},
     "output_type": "execute_result"
    }
   ],
   "source": [
    "query = Query(keywords=\"iguana\")\n",
    "query.keywords"
   ]
  },
  {
   "cell_type": "code",
   "execution_count": 21,
   "metadata": {
    "collapsed": false
   },
   "outputs": [
    {
     "name": "stdout",
     "output_type": "stream",
     "text": [
      "1\n"
     ]
    }
   ],
   "source": [
    "my_session.add(query)\n",
    "my_session.commit()\n",
    "print query.id"
   ]
  },
  {
   "cell_type": "markdown",
   "metadata": {},
   "source": [
    "### Retrieving Data\n",
    "Read more about [retrieving data from the db](http://docs.sqlalchemy.org/en/rel_1_0/orm/tutorial.html#querying) via an ORM class."
   ]
  },
  {
   "cell_type": "code",
   "execution_count": 22,
   "metadata": {
    "collapsed": false
   },
   "outputs": [
    {
     "name": "stdout",
     "output_type": "stream",
     "text": [
      "<Query(keywords='iguana' count='459')>\n"
     ]
    }
   ],
   "source": [
    "for q in my_session.query(Query).order_by(Query.timestamp):\n",
    "    print q"
   ]
  },
  {
   "cell_type": "code",
   "execution_count": 23,
   "metadata": {
    "collapsed": true
   },
   "outputs": [],
   "source": [
    "query1 = Query(keywords=\"robot\")\n",
    "query2 = Query(keywords=\"puppy\")\n",
    "my_session.add_all([query1,query2])\n",
    "my_session.commit()"
   ]
  },
  {
   "cell_type": "code",
   "execution_count": 24,
   "metadata": {
    "collapsed": false
   },
   "outputs": [
    {
     "name": "stdout",
     "output_type": "stream",
     "text": [
      "<Query(keywords='iguana' count='459')>\n",
      "<Query(keywords='robot' count='10340')>\n",
      "<Query(keywords='puppy' count='11042')>\n"
     ]
    }
   ],
   "source": [
    "for q in my_session.query(Query).order_by(Query.timestamp):\n",
    "    print q"
   ]
  },
  {
   "cell_type": "code",
   "execution_count": 25,
   "metadata": {
    "collapsed": false
   },
   "outputs": [
    {
     "name": "stdout",
     "output_type": "stream",
     "text": [
      "<Query(keywords='puppy' count='11042')>\n"
     ]
    }
   ],
   "source": [
    "for q in my_session.query(Query).filter(Query.keywords.like('p%')):\n",
    "    print q"
   ]
  },
  {
   "cell_type": "code",
   "execution_count": 26,
   "metadata": {
    "collapsed": false
   },
   "outputs": [
    {
     "name": "stdout",
     "output_type": "stream",
     "text": [
      "21841\n"
     ]
    }
   ],
   "source": [
    "sentenceCount=0;\n",
    "for q in my_session.query(Query).all():\n",
    "    sentenceCount+=q.count\n",
    "    \n",
    "print sentenceCount\n",
    "    "
   ]
  },
  {
   "cell_type": "code",
   "execution_count": null,
   "metadata": {
    "collapsed": true
   },
   "outputs": [],
   "source": []
  },
  {
   "cell_type": "code",
   "execution_count": null,
   "metadata": {
    "collapsed": true
   },
   "outputs": [],
   "source": []
  },
  {
   "cell_type": "code",
   "execution_count": null,
   "metadata": {
    "collapsed": true
   },
   "outputs": [],
   "source": []
  }
 ],
 "metadata": {
  "kernelspec": {
   "display_name": "Python 2",
   "language": "python",
   "name": "python2"
  },
  "language_info": {
   "codemirror_mode": {
    "name": "ipython",
    "version": 2
   },
   "file_extension": ".py",
   "mimetype": "text/x-python",
   "name": "python",
   "nbconvert_exporter": "python",
   "pygments_lexer": "ipython2",
   "version": "2.7.10"
  }
 },
 "nbformat": 4,
 "nbformat_minor": 0
}
